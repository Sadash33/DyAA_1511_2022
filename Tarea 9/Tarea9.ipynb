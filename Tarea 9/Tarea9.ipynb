{
  "nbformat": 4,
  "nbformat_minor": 0,
  "metadata": {
    "colab": {
      "name": "Tarea9.ipynb",
      "provenance": []
    },
    "kernelspec": {
      "name": "python3",
      "display_name": "Python 3"
    },
    "language_info": {
      "name": "python"
    }
  },
  "cells": [
    {
      "cell_type": "code",
      "metadata": {
        "colab": {
          "base_uri": "https://localhost:8080/"
        },
        "id": "JNiZKVJxhEGl",
        "outputId": "062da17d-9c94-465f-deae-91968327655f"
      },
      "source": [
        "def quick_sort(lista):\n",
        "  tam = len(lista)\n",
        "  if tam <= 1:\n",
        "    return lista\n",
        "  else:\n",
        "    p = lista.pop()\n",
        "\n",
        "  mayor = []\n",
        "  menor = []\n",
        "\n",
        "  for elemento in lista:\n",
        "    if elemento > p:\n",
        "      mayor.append(elemento)\n",
        "    else:\n",
        "      menor.append(elemento)\n",
        "\n",
        "  return quick_sort(menor) + [p] + quick_sort(mayor) \n",
        "\n",
        "\n",
        "\n",
        "print(quick_sort([2,3,1,13,44,12,323,45,23,54,63,21,4,5,33,75]))\n",
        "\n"
      ],
      "execution_count": 2,
      "outputs": [
        {
          "output_type": "stream",
          "name": "stdout",
          "text": [
            "[1, 2, 3, 4, 5, 12, 13, 21, 23, 33, 44, 45, 54, 63, 75, 323]\n"
          ]
        }
      ]
    }
  ]
}