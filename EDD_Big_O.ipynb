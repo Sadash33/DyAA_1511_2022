{
  "nbformat": 4,
  "nbformat_minor": 0,
  "metadata": {
    "colab": {
      "name": "EDD_Big_O.ipynb",
      "provenance": [],
      "collapsed_sections": [],
      "authorship_tag": "ABX9TyNjtiEbyjp9cVp5WT4qYCh6",
      "include_colab_link": true
    },
    "kernelspec": {
      "name": "python3",
      "display_name": "Python 3"
    },
    "language_info": {
      "name": "python"
    }
  },
  "cells": [
    {
      "cell_type": "markdown",
      "metadata": {
        "id": "view-in-github",
        "colab_type": "text"
      },
      "source": [
        "<a href=\"https://colab.research.google.com/github/Sadash33/DyAA_1511_2022/blob/main/EDD_Big_O.ipynb\" target=\"_parent\"><img src=\"https://colab.research.google.com/assets/colab-badge.svg\" alt=\"Open In Colab\"/></a>"
      ]
    },
    {
      "cell_type": "markdown",
      "metadata": {
        "id": "hJW2RW3VE9qs"
      },
      "source": [
        "#Árboles Binarios\n",
        "\n",
        "\n",
        "#Árbol binario de busqueda\n"
      ]
    },
    {
      "cell_type": "code",
      "metadata": {
        "id": "UssKhfIDYofs"
      },
      "source": [
        "class NodoArbol:\n",
        "  def __init__(self, value, left = None, right = None):\n",
        "    self.data = value\n",
        "    self.left = left\n",
        "    self.right = right\n",
        "\n",
        "class ArbolBB:\n",
        "  def __init__(self):\n",
        "    pass\n",
        "    #Pausa"
      ],
      "execution_count": 21,
      "outputs": []
    },
    {
      "cell_type": "code",
      "metadata": {
        "colab": {
          "base_uri": "https://localhost:8080/"
        },
        "id": "OSJS44f6MUst",
        "outputId": "0d63f523-f2ce-4405-f02b-e8fe7636caa0"
      },
      "source": [
        "raiz = NodoArbol(60, None, None)\n",
        "raiz.left = NodoArbol(40, None, None)\n",
        "print(raiz.left.data)\n",
        "\n",
        "#Lo mismo pero distinto XD\n",
        "\n",
        "raiz = NodoArbol(60, NodoArbol(40), None)\n",
        "print(raiz.left.data)\n",
        "\n",
        "raiz = NodoArbol(60, NodoArbol(40, NodoArbol(30)), NodoArbol(70))\n",
        "print(raiz.left.left.data)"
      ],
      "execution_count": 22,
      "outputs": [
        {
          "output_type": "stream",
          "name": "stdout",
          "text": [
            "40\n",
            "40\n",
            "30\n"
          ]
        }
      ]
    },
    {
      "cell_type": "code",
      "metadata": {
        "id": "cZ_vVNODR1vo"
      },
      "source": [
        "class nodoarbol:\n",
        "  def _init_(self,value,left=None,rigth=None):\n",
        "    self.data=value\n",
        "    self.left=left\n",
        "    self.rigth=rigth\n",
        "\n",
        "class ArbolBB:\n",
        "  def _init_(self):\n",
        "    self.__root=None\n",
        "\n",
        "  def insert(self,value):\n",
        "    if self.__root==None:\n",
        "      self.__root=nodoarbol(value)\n",
        "    else:\n",
        "      self._insert_nodo(self._root,value)\n",
        "\n",
        "  def _insert_nodo_(self,nodo,value):\n",
        "    if nodo.data==value:\n",
        "      pass\n",
        "    elif value <nodo.data:\n",
        "      if nodo.left==None:\n",
        "        nodo.left=nodoarbol(value)\n",
        "      else:\n",
        "        self._insert_nodo_(nodo.left,value)\n",
        "    else:\n",
        "      if nodo.rigth==None:\n",
        "        nodo.rigth=nodoarbol(value)\n",
        "      else:\n",
        "        self._insert_nodo_(nodo.rigth,value)\n",
        "\n",
        "  #preorden y posorden\n",
        "  def trasversal(self,formato):\n",
        "    if formato ==\"inorden\":\n",
        "      print(\"inorden\")\n",
        "      self.recorrido_in(self.__root)\n",
        "\n",
        "    elif formato== \"preorden\":\n",
        "      print(\"preorden\")\n",
        "      self.recorrido_pre(self.__root)\n",
        "\n",
        "    elif formato==\"posorden\":\n",
        "      print(\"pos orden\")\n",
        "      self.recorrido_pos(self.__root)\n",
        "      \n",
        "  def recorrido_in(self,nodo):\n",
        "    if nodo!=None:\n",
        "      self.recorrido_in(nodo.left)\n",
        "      print(nodo.data,end=\"  \")\n",
        "      self.recorrido_in(nodo.rigth)\n",
        "\n",
        "  def recorrido_pre(self,nodo):\n",
        "    if nodo!=None:\n",
        "      print(nodo.data,end=\"  \")\n",
        "      self.recorrido_pre(nodo.left)\n",
        "      self.recorrido_pre(nodo.rigth)\n",
        "\n",
        "  def recorrido_pos(self,nodo):\n",
        "    if nodo!=None:\n",
        "      self.recorrido_pos(nodo.left)\n",
        "      self.recorrido_pos(nodo.rigth)\n",
        "      print(nodo.data,end=\"  \")\n",
        "\n",
        "  def buscar(self, value):\n",
        "    if self.__root == None:\n",
        "      print(\"Árbol vacio\")\n",
        "      return None\n",
        "    else:\n",
        "      self.busca_nodo(self.__root, value)\n",
        "\n",
        "  def busca_nodo(self, nodo, value):\n",
        "    if nodo == None:\n",
        "      print(\"No existe\")\n",
        "      return None\n",
        "    elif nodo.data == value:\n",
        "      print(\"Encontrado\")\n",
        "      return nodo\n",
        "    elif value < nodo.data:\n",
        "      print(\"Buscar del lado izquierdo\")\n",
        "      return self.busca_nodo(nodo.left, value)\n",
        "    else:\n",
        "      print(\"Buscar del lado derecho\")\n",
        "      return self.busca_nodo(nodo.right, value)\n"
      ],
      "execution_count": 41,
      "outputs": []
    },
    {
      "cell_type": "code",
      "metadata": {
        "colab": {
          "base_uri": "https://localhost:8080/",
          "height": 350
        },
        "id": "2QdL_0tZVmNX",
        "outputId": "15b348e1-eb40-4780-de99-f51d66a21168"
      },
      "source": [
        "abb = ArbolBB()\n",
        "\n",
        "abb.insert(3)\n",
        "abb.insert(6)\n",
        "abb.insert(8)\n",
        "abb.trasversal(\"inorden\")\n",
        "abb.trasversal(\"preorden\")\n",
        "abb.trasversal(\"posorden\")\n",
        "res = abb.buscar(8)\n",
        "\n",
        "print(\"Resultado:\" , res)"
      ],
      "execution_count": 42,
      "outputs": [
        {
          "output_type": "error",
          "ename": "AttributeError",
          "evalue": "ignored",
          "traceback": [
            "\u001b[0;31m---------------------------------------------------------------------------\u001b[0m",
            "\u001b[0;31mAttributeError\u001b[0m                            Traceback (most recent call last)",
            "\u001b[0;32m<ipython-input-42-f69836369e9f>\u001b[0m in \u001b[0;36m<module>\u001b[0;34m()\u001b[0m\n\u001b[1;32m      1\u001b[0m \u001b[0mabb\u001b[0m \u001b[0;34m=\u001b[0m \u001b[0mArbolBB\u001b[0m\u001b[0;34m(\u001b[0m\u001b[0;34m)\u001b[0m\u001b[0;34m\u001b[0m\u001b[0;34m\u001b[0m\u001b[0m\n\u001b[1;32m      2\u001b[0m \u001b[0;34m\u001b[0m\u001b[0m\n\u001b[0;32m----> 3\u001b[0;31m \u001b[0mabb\u001b[0m\u001b[0;34m.\u001b[0m\u001b[0minsert\u001b[0m\u001b[0;34m(\u001b[0m\u001b[0;36m3\u001b[0m\u001b[0;34m)\u001b[0m\u001b[0;34m\u001b[0m\u001b[0;34m\u001b[0m\u001b[0m\n\u001b[0m\u001b[1;32m      4\u001b[0m \u001b[0mabb\u001b[0m\u001b[0;34m.\u001b[0m\u001b[0minsert\u001b[0m\u001b[0;34m(\u001b[0m\u001b[0;36m6\u001b[0m\u001b[0;34m)\u001b[0m\u001b[0;34m\u001b[0m\u001b[0;34m\u001b[0m\u001b[0m\n\u001b[1;32m      5\u001b[0m \u001b[0mabb\u001b[0m\u001b[0;34m.\u001b[0m\u001b[0minsert\u001b[0m\u001b[0;34m(\u001b[0m\u001b[0;36m8\u001b[0m\u001b[0;34m)\u001b[0m\u001b[0;34m\u001b[0m\u001b[0;34m\u001b[0m\u001b[0m\n",
            "\u001b[0;32m<ipython-input-41-bc7859c61a5b>\u001b[0m in \u001b[0;36minsert\u001b[0;34m(self, value)\u001b[0m\n\u001b[1;32m     10\u001b[0m \u001b[0;34m\u001b[0m\u001b[0m\n\u001b[1;32m     11\u001b[0m   \u001b[0;32mdef\u001b[0m \u001b[0minsert\u001b[0m\u001b[0;34m(\u001b[0m\u001b[0mself\u001b[0m\u001b[0;34m,\u001b[0m\u001b[0mvalue\u001b[0m\u001b[0;34m)\u001b[0m\u001b[0;34m:\u001b[0m\u001b[0;34m\u001b[0m\u001b[0;34m\u001b[0m\u001b[0m\n\u001b[0;32m---> 12\u001b[0;31m     \u001b[0;32mif\u001b[0m \u001b[0mself\u001b[0m\u001b[0;34m.\u001b[0m\u001b[0m__root\u001b[0m\u001b[0;34m==\u001b[0m\u001b[0;32mNone\u001b[0m\u001b[0;34m:\u001b[0m\u001b[0;34m\u001b[0m\u001b[0;34m\u001b[0m\u001b[0m\n\u001b[0m\u001b[1;32m     13\u001b[0m       \u001b[0mself\u001b[0m\u001b[0;34m.\u001b[0m\u001b[0m__root\u001b[0m\u001b[0;34m=\u001b[0m\u001b[0mnodoarbol\u001b[0m\u001b[0;34m(\u001b[0m\u001b[0mvalue\u001b[0m\u001b[0;34m)\u001b[0m\u001b[0;34m\u001b[0m\u001b[0;34m\u001b[0m\u001b[0m\n\u001b[1;32m     14\u001b[0m     \u001b[0;32melse\u001b[0m\u001b[0;34m:\u001b[0m\u001b[0;34m\u001b[0m\u001b[0;34m\u001b[0m\u001b[0m\n",
            "\u001b[0;31mAttributeError\u001b[0m: 'ArbolBB' object has no attribute '_ArbolBB__root'"
          ]
        }
      ]
    }
  ]
}