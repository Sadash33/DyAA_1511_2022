{
  "nbformat": 4,
  "nbformat_minor": 0,
  "metadata": {
    "colab": {
      "name": "Tarea2.ipynb",
      "provenance": [],
      "authorship_tag": "ABX9TyMMSaYoy9BI/NqzI9Z6oTJZ",
      "include_colab_link": true
    },
    "kernelspec": {
      "name": "python3",
      "display_name": "Python 3"
    },
    "language_info": {
      "name": "python"
    }
  },
  "cells": [
    {
      "cell_type": "markdown",
      "metadata": {
        "id": "view-in-github",
        "colab_type": "text"
      },
      "source": [
        "<a href=\"https://colab.research.google.com/github/Sadash33/DyAA_1511_2022/blob/main/Tarea2.ipynb\" target=\"_parent\"><img src=\"https://colab.research.google.com/assets/colab-badge.svg\" alt=\"Open In Colab\"/></a>"
      ]
    },
    {
      "cell_type": "code",
      "metadata": {
        "colab": {
          "base_uri": "https://localhost:8080/"
        },
        "id": "xJF-M8Wnm124",
        "outputId": "45f63924-536e-4a37-e581-084919b101dd"
      },
      "source": [
        "#Busqueda lineal \n",
        "\n",
        "#Teniendo un arreglo de n elementos se quiere encontrar un elemento especifico m.\n",
        "#Dado el elemento m a buscar, el programa recorrerá cada elemento dentro del arreglo comparando el valor de cada n con m hasta encontrar m.\n",
        "#En caso de no encontrarlo, imprime un error. \n",
        "\n",
        "#Pseudocódigo\n",
        "'''\n",
        "función busqueda(lista, m):\n",
        "  por cada elemento i en la lista:\n",
        "    si el elemento a buscar m es igual a i:\n",
        "      devuelve el mismo i\n",
        "  devuelve -1 por defecto\n",
        "\n",
        "si busqueda es igual a -1:\n",
        "  imprime error\n",
        "si busqueda es igual a i:\n",
        " imprime encontrado'''\n",
        "\n",
        "#Implementación\n",
        "def busqueda_lineal(lista, m):\n",
        "  for i in lista:\n",
        "    if m == i:\n",
        "      return i\n",
        "  return -1\n",
        "\n",
        "lista = [17, 51, 198, 20, 7, 9, 3, 484, 22, 81, 15, 1, 37, 66]\n",
        "m = 484\n",
        "l = busqueda_lineal(lista, m)\n",
        "\n",
        "if l == -1:\n",
        "  print(\"Error: Elemento no encontrado\")\n",
        "else:\n",
        "  print(\"Elemento encontrado\")\n"
      ],
      "execution_count": 30,
      "outputs": [
        {
          "output_type": "stream",
          "name": "stdout",
          "text": [
            "Elemento encontrado\n"
          ]
        }
      ]
    },
    {
      "cell_type": "code",
      "metadata": {
        "colab": {
          "base_uri": "https://localhost:8080/"
        },
        "id": "7RrI1GXlE21w",
        "outputId": "66456cf9-1cae-4a52-d08b-7abfc56a258d"
      },
      "source": [
        "#Ordenamiento por inserción\n",
        "#Teniendo un arreglo de n número de elementos se quiere ordenar los elementos del mismo de menor a mayor.\n",
        "#Al insertar la lista a ordenar, el indice j será igual a i y comparará su valor con cada elemento de la lista en recorrido inverso.\n",
        "#Si j-1 es mayor a j, sus valores son intercambiados y seguira así sucesivamente hasta ordenar todos los elementos. \n",
        "\n",
        "#Pseudocódigo\n",
        "''' \n",
        "función insert(x):\n",
        "  por cada i en la extensión de la lista x:\n",
        "    por cada j en el rango de i(0, -1):\n",
        "      si el elemento x[j-1] > el elemento x[j]:\n",
        "        u toma el valor de x[j]\n",
        "        x[j] toma el valor de x[j-1]\n",
        "        x[j-1] toma el valor de u\n",
        "  imprime x'''\n",
        "#Implementación\n",
        "def insert(x):\n",
        "  for i in range(len(x)):\n",
        "    for j in range(i, 0, -1):\n",
        "      if (x[j-1] > x[j]):\n",
        "        u = x[j]\n",
        "        x[j] = x[j-1]\n",
        "        x[j-1] = u\n",
        "  print(x)\n",
        "\n",
        "x = [17, 51, 198, 20, 7, 9, 3, 484, 22, 81, 15, 1, 37, 66]\n",
        "print(x)\n",
        "insert(x)"
      ],
      "execution_count": 31,
      "outputs": [
        {
          "output_type": "stream",
          "name": "stdout",
          "text": [
            "[17, 51, 198, 20, 7, 9, 3, 484, 22, 81, 15, 1, 37, 66]\n",
            "[1, 3, 7, 9, 15, 17, 20, 22, 37, 51, 66, 81, 198, 484]\n"
          ]
        }
      ]
    }
  ]
}