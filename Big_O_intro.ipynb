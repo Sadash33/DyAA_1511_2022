{
  "nbformat": 4,
  "nbformat_minor": 0,
  "metadata": {
    "colab": {
      "name": "Big_O_intro.ipynb",
      "provenance": [],
      "collapsed_sections": [],
      "authorship_tag": "ABX9TyOMCxqm95s0EK1vHY8VS1Oh",
      "include_colab_link": true
    },
    "kernelspec": {
      "name": "python3",
      "display_name": "Python 3"
    },
    "language_info": {
      "name": "python"
    }
  },
  "cells": [
    {
      "cell_type": "markdown",
      "metadata": {
        "id": "view-in-github",
        "colab_type": "text"
      },
      "source": [
        "<a href=\"https://colab.research.google.com/github/Sadash33/DyAA_1511_2022/blob/main/Big_O_intro.ipynb\" target=\"_parent\"><img src=\"https://colab.research.google.com/assets/colab-badge.svg\" alt=\"Open In Colab\"/></a>"
      ]
    },
    {
      "cell_type": "code",
      "metadata": {
        "colab": {
          "base_uri": "https://localhost:8080/"
        },
        "id": "lLsVZEj5dt5e",
        "outputId": "1187f23d-de4e-4439-c56f-ae21bb7f3563"
      },
      "source": [
        "#Ejercicio 1\n",
        "\n",
        "def suma(num):\n",
        "    suma = 0\n",
        "    for i in range(num +1 ):\n",
        "        suma += i\n",
        "    print(suma)\n",
        "\n",
        "n = 3\n",
        "suma(3)\n",
        "import time\n",
        "time.time()\n",
        "\n",
        "marca1 = time.time()\n",
        "marca2 = time.time()\n",
        "print(marca2 - marca1)"
      ],
      "execution_count": null,
      "outputs": [
        {
          "output_type": "stream",
          "name": "stdout",
          "text": [
            "6\n",
            "1.5735626220703125e-05\n"
          ]
        }
      ]
    },
    {
      "cell_type": "code",
      "metadata": {
        "colab": {
          "base_uri": "https://localhost:8080/"
        },
        "id": "ttHda0Ueekae",
        "outputId": "fa490b17-852e-4521-bbff-9aae95fb9895"
      },
      "source": [
        "#Ejercicio 1\n",
        "\n",
        "def sumaNumeros(n):\n",
        "    if (n == 0):\n",
        "        return 0\n",
        "    else: \n",
        "        return n+sumaNumeros(n-1)\n",
        "\n",
        "n = 3\n",
        "sumaNumeros(n)\n",
        "import time\n",
        "time.time()\n",
        "\n",
        "marca1 = time.time()\n",
        "marca2 = time.time()\n",
        "print(marca2 - marca1)"
      ],
      "execution_count": null,
      "outputs": [
        {
          "output_type": "stream",
          "name": "stdout",
          "text": [
            "1.4781951904296875e-05\n"
          ]
        }
      ]
    },
    {
      "cell_type": "code",
      "metadata": {
        "id": "ka7UvE9FgOsl"
      },
      "source": [
        "import time\n",
        "time.time()\n",
        "\n",
        "marca1 = time.time()\n",
        "marca2 = time.time()\n",
        "print(marca2 - marca1)"
      ],
      "execution_count": null,
      "outputs": []
    },
    {
      "cell_type": "code",
      "metadata": {
        "colab": {
          "base_uri": "https://localhost:8080/"
        },
        "id": "w-9cHt_Rirhy",
        "outputId": "da22ef3f-0259-4f1c-e64f-306c300168d6"
      },
      "source": [
        "# Ejercicio 2\n",
        "\n",
        "numeros = [1, 2, 3]\n",
        "\n",
        "def pares():\n",
        "  conteo = 0 #O(1)\n",
        "  for i in numeros:\n",
        "    for j in numeros:\n",
        "      print(i, j) #O(n^2)\n",
        "      conteo += 1 #O(n^2)\n",
        "  return conteo\n",
        "  #O(1 + n^2)\n",
        "\n",
        "conteo = pares()\n",
        "print(\"Final:\", conteo)"
      ],
      "execution_count": null,
      "outputs": [
        {
          "output_type": "stream",
          "name": "stdout",
          "text": [
            "1 1\n",
            "1 2\n",
            "1 3\n",
            "2 1\n",
            "2 2\n",
            "2 3\n",
            "3 1\n",
            "3 2\n",
            "3 3\n",
            "Final: 9\n"
          ]
        }
      ]
    },
    {
      "cell_type": "code",
      "metadata": {
        "colab": {
          "base_uri": "https://localhost:8080/"
        },
        "id": "FgBzrBcKjLGe",
        "outputId": "ba3631e9-a0cd-4238-b237-73bc269076e9"
      },
      "source": [
        "#Ejercicio 3\n",
        "\n",
        "numeros = [1,2,3]\n",
        "\n",
        "def unaFuncionCualquiera( lista ):\n",
        "    conteo = 0 #O(1)\n",
        "    suma = 0 #O(1)\n",
        "    for num in lista:\n",
        "        suma += num #O(n)\n",
        "    print(f\"La sumatoria de los numeros en la lista es={ suma } \") #O(1)\n",
        "\n",
        "    for numero1 in lista:\n",
        "        for numero2 in lista:\n",
        "            print(numero1 , numero2 ) #O(n^2)\n",
        "            conteo += 1 #O(n^2)\n",
        "    return conteo\n",
        "    #O(3 + n + 2n^2)\n",
        "    #O(n + n^2)\n",
        "    #O(n^2)\n",
        "\n",
        "conteo = unaFuncionCualquiera(numeros)\n",
        "\n",
        "print( \"Final:\" , conteo)"
      ],
      "execution_count": null,
      "outputs": [
        {
          "output_type": "stream",
          "name": "stdout",
          "text": [
            "La sumatoria de los numeros en la lista es=6 \n",
            "1 1\n",
            "1 2\n",
            "1 3\n",
            "2 1\n",
            "2 2\n",
            "2 3\n",
            "3 1\n",
            "3 2\n",
            "3 3\n",
            "Final: 9\n"
          ]
        }
      ]
    },
    {
      "cell_type": "code",
      "metadata": {
        "id": "TnOwCl5Ml6e0",
        "colab": {
          "base_uri": "https://localhost:8080/"
        },
        "outputId": "5c915b04-4e7b-48b1-fc12-91bd7349460c"
      },
      "source": [
        "#Ejercicio 3.2 (????)\n",
        "#Que haga lo mismo pero con 2 listas\n",
        "\n",
        "numeros = [1, 2, 3]\n",
        "numeros2 = [4, 5, 6, 7, 8]\n",
        "\n",
        "def pares(lista, lista2):\n",
        "  conteo = 0 #O(1)\n",
        "  for i in numeros:\n",
        "    for j in numeros2:\n",
        "      print(i, j) #O(n*m)\n",
        "      conteo += 1 #O(n*m)\n",
        "  return conteo\n",
        "  #O(1 + 2(n*m))\n",
        "  #(n*m)\n",
        "\n",
        "conteo = pares(numeros, numeros2)\n",
        "print(\"Final:\", conteo)"
      ],
      "execution_count": null,
      "outputs": [
        {
          "output_type": "stream",
          "name": "stdout",
          "text": [
            "1 4\n",
            "1 5\n",
            "1 6\n",
            "1 7\n",
            "1 8\n",
            "2 4\n",
            "2 5\n",
            "2 6\n",
            "2 7\n",
            "2 8\n",
            "3 4\n",
            "3 5\n",
            "3 6\n",
            "3 7\n",
            "3 8\n",
            "Final: 15\n"
          ]
        }
      ]
    },
    {
      "cell_type": "code",
      "metadata": {
        "colab": {
          "base_uri": "https://localhost:8080/"
        },
        "id": "cx7xIHgnycdj",
        "outputId": "947cf6aa-56cf-41fb-f263-470d4aee6a71"
      },
      "source": [
        "#Busqueda lineal\n",
        "\n",
        "def busqueda_lineal(lista, val_a_buscar):\n",
        "  contador = 0 #O(1)\n",
        "  for x in range(len(lista)):\n",
        "    contador += 1 #O(n)\n",
        "    if lista[x] == val_a_buscar:\n",
        "      print(f\"Encontrado en la posición {x}\") #O(1)\n",
        "      break\n",
        "  return contador\n",
        "##O(1 + n + 1) --> #O(2 + n)\n",
        "#O(2 + n/2)\n",
        "#O(n)\n",
        "\n",
        "numeros = [2, 3, 1, 24, 23, 25, 10, 100, 35, 8]\n",
        "comparaciones = busqueda_lineal(numeros, 10)\n",
        "print(f\"{comparaciones} comparaciones\")"
      ],
      "execution_count": null,
      "outputs": [
        {
          "output_type": "stream",
          "name": "stdout",
          "text": [
            "Encontrado en la posición 6\n",
            "7 comparaciones\n"
          ]
        }
      ]
    }
  ]
}