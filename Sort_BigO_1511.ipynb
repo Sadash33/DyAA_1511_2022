{
  "nbformat": 4,
  "nbformat_minor": 0,
  "metadata": {
    "colab": {
      "name": "Sort_BigO_1511.ipynb",
      "provenance": [],
      "collapsed_sections": [],
      "authorship_tag": "ABX9TyMwPZRewMgLdt5DRmYrJaj+",
      "include_colab_link": true
    },
    "kernelspec": {
      "name": "python3",
      "display_name": "Python 3"
    },
    "language_info": {
      "name": "python"
    }
  },
  "cells": [
    {
      "cell_type": "markdown",
      "metadata": {
        "id": "view-in-github",
        "colab_type": "text"
      },
      "source": [
        "<a href=\"https://colab.research.google.com/github/Sadash33/DyAA_1511_2022/blob/main/Sort_BigO_1511.ipynb\" target=\"_parent\"><img src=\"https://colab.research.google.com/assets/colab-badge.svg\" alt=\"Open In Colab\"/></a>"
      ]
    },
    {
      "cell_type": "markdown",
      "metadata": {
        "id": "ybxz7znYWsVt"
      },
      "source": [
        "#Burbuja"
      ]
    },
    {
      "cell_type": "code",
      "metadata": {
        "colab": {
          "base_uri": "https://localhost:8080/"
        },
        "id": "_xlU9L0iJvru",
        "outputId": "9e66de55-122c-4be6-801c-76c6ef7be0a1"
      },
      "source": [
        "info = [9, 324, 234, 5,12, 5412, 53, 674, 15, 623, 8, 3, 7 ,1, 45, 64, 123, 6, 4]\n",
        "#info = [8, 5, 9, 3]\n",
        "#Range(<inicio><stop><int>)\n",
        "#Range(3, 0, -1)\n",
        "#intercambio -----> a, b = b, a\n",
        "\n",
        "def burbuja(data): #MO(n)  PO(1)\n",
        "  tam = len(data) #MO(1)  PO(1)\n",
        "  for tope in range(tam-1, 0, -1): #MO(1)  PO(na)\n",
        "    for pivote in range(tope): #MO(1)  PO(na)\n",
        "      if data[pivote] > data[pivote + 1]: \n",
        "        data[pivote], data[pivote + 1] = data[pivote + 1], data[pivote] \n",
        "        #MO(0)  PO(2n^2)\n",
        "  return data #MO(0)  PO(1)\n",
        "\n",
        "#MO(n)  PO(n^2)\n",
        "\n",
        "print(burbuja(info))\n",
        "\n",
        "\n",
        "#Posibles BigO\n",
        "#MO(340)  PO(15) con lista de 14 elementos.\n",
        "#MO(n)  PO(3n)\n",
        "#MO(n)  PO(n^2) -----> Respuesta correcta.\n"
      ],
      "execution_count": null,
      "outputs": [
        {
          "output_type": "stream",
          "name": "stdout",
          "text": [
            "[1, 3, 4, 5, 6, 7, 8, 9, 12, 15, 45, 53, 64, 123, 234, 324, 623, 674, 5412]\n"
          ]
        }
      ]
    },
    {
      "cell_type": "markdown",
      "metadata": {
        "id": "uvvAUUguWw6x"
      },
      "source": [
        "#Selection\n"
      ]
    },
    {
      "cell_type": "code",
      "metadata": {
        "colab": {
          "base_uri": "https://localhost:8080/"
        },
        "id": "ZEe54qYEWzZT",
        "outputId": "8133c3ae-3790-4db7-e399-7948f7bf00f2"
      },
      "source": [
        "def selection_sort(data): #MO(n)  PO(1)\n",
        "  for pivote in range(len(data)): #MO(1)  PO(na)\n",
        "    min = pivote # Posición del menor #MO(1)  PO(n)\n",
        "    for index in range(pivote, len(data), 1): #MO(1)  PO(na)\n",
        "      if data[index] < data[min]: #MO(0)  PO(na)\n",
        "        min = index #MO(0)  PO( n^2)\n",
        "    data[pivote], data[min] = data[min], data[pivote] #MO(0)  PO(2 * )\n",
        "    print(f\"-----> {data} <-----\") #MO(0)  PO(0)\n",
        "\n",
        "  return data #MO(0)  PO(1)\n",
        "\n",
        " #Total: MO(n)  PO(1 + n + n^2 + 2n + 1) -----> PO(n^2 + n) -----> PO(n^2)\n",
        "\n",
        "#info = [8, 5, 9, 3]\n",
        "info = [9, 324, 234, 5,12, 5412, 53, 674, 15, 623, 8, 3, 7 ,1, 45, 64, 123, 6, 4]\n",
        "print(selection_sort(info))\n",
        "\n"
      ],
      "execution_count": null,
      "outputs": [
        {
          "output_type": "stream",
          "name": "stdout",
          "text": [
            "-----> [1, 324, 234, 5, 12, 5412, 53, 674, 15, 623, 8, 3, 7, 9, 45, 64, 123, 6, 4] <-----\n",
            "-----> [1, 3, 234, 5, 12, 5412, 53, 674, 15, 623, 8, 324, 7, 9, 45, 64, 123, 6, 4] <-----\n",
            "-----> [1, 3, 4, 5, 12, 5412, 53, 674, 15, 623, 8, 324, 7, 9, 45, 64, 123, 6, 234] <-----\n",
            "-----> [1, 3, 4, 5, 12, 5412, 53, 674, 15, 623, 8, 324, 7, 9, 45, 64, 123, 6, 234] <-----\n",
            "-----> [1, 3, 4, 5, 6, 5412, 53, 674, 15, 623, 8, 324, 7, 9, 45, 64, 123, 12, 234] <-----\n",
            "-----> [1, 3, 4, 5, 6, 7, 53, 674, 15, 623, 8, 324, 5412, 9, 45, 64, 123, 12, 234] <-----\n",
            "-----> [1, 3, 4, 5, 6, 7, 8, 674, 15, 623, 53, 324, 5412, 9, 45, 64, 123, 12, 234] <-----\n",
            "-----> [1, 3, 4, 5, 6, 7, 8, 9, 15, 623, 53, 324, 5412, 674, 45, 64, 123, 12, 234] <-----\n",
            "-----> [1, 3, 4, 5, 6, 7, 8, 9, 12, 623, 53, 324, 5412, 674, 45, 64, 123, 15, 234] <-----\n",
            "-----> [1, 3, 4, 5, 6, 7, 8, 9, 12, 15, 53, 324, 5412, 674, 45, 64, 123, 623, 234] <-----\n",
            "-----> [1, 3, 4, 5, 6, 7, 8, 9, 12, 15, 45, 324, 5412, 674, 53, 64, 123, 623, 234] <-----\n",
            "-----> [1, 3, 4, 5, 6, 7, 8, 9, 12, 15, 45, 53, 5412, 674, 324, 64, 123, 623, 234] <-----\n",
            "-----> [1, 3, 4, 5, 6, 7, 8, 9, 12, 15, 45, 53, 64, 674, 324, 5412, 123, 623, 234] <-----\n",
            "-----> [1, 3, 4, 5, 6, 7, 8, 9, 12, 15, 45, 53, 64, 123, 324, 5412, 674, 623, 234] <-----\n",
            "-----> [1, 3, 4, 5, 6, 7, 8, 9, 12, 15, 45, 53, 64, 123, 234, 5412, 674, 623, 324] <-----\n",
            "-----> [1, 3, 4, 5, 6, 7, 8, 9, 12, 15, 45, 53, 64, 123, 234, 324, 674, 623, 5412] <-----\n",
            "-----> [1, 3, 4, 5, 6, 7, 8, 9, 12, 15, 45, 53, 64, 123, 234, 324, 623, 674, 5412] <-----\n",
            "-----> [1, 3, 4, 5, 6, 7, 8, 9, 12, 15, 45, 53, 64, 123, 234, 324, 623, 674, 5412] <-----\n",
            "-----> [1, 3, 4, 5, 6, 7, 8, 9, 12, 15, 45, 53, 64, 123, 234, 324, 623, 674, 5412] <-----\n",
            "[1, 3, 4, 5, 6, 7, 8, 9, 12, 15, 45, 53, 64, 123, 234, 324, 623, 674, 5412]\n"
          ]
        }
      ]
    },
    {
      "cell_type": "markdown",
      "metadata": {
        "id": "KISkFcWLz3mL"
      },
      "source": [
        "# Insertion Sort\n",
        "Como cuando juegas cartas"
      ]
    },
    {
      "cell_type": "code",
      "metadata": {
        "colab": {
          "base_uri": "https://localhost:8080/"
        },
        "id": "CATU2oQ4z757",
        "outputId": "95de03b7-04d0-4bf0-d275-b91a3fb62f4f"
      },
      "source": [
        "def insertion_sort(data): #MO(n)  PO(1)\n",
        "  print(f\"original {data}\") #MO(0)  PO(1)\n",
        "  #Lógica\n",
        "  for pivote in range(1, len(data), 1): #MO(1)  PO(na)\n",
        "    for index in range(0, pivote + 1, 1): #MO(1)  PO(na)\n",
        "      if data[pivote] < data[index]: #MO(0)  PO(na)\n",
        "        tmp = data[pivote] #MO(1)  PO(n) \n",
        "        #Recorrer a la derecha\n",
        "        for i in range(pivote, index, -1):#MO(1)  PO(na) \n",
        "          data[i] = data[i - 1] #MO(0)  PO(n * m)\n",
        "        data[index] = tmp #MO(0)  PO(n)\n",
        "    print(f\"Posición {pivote} -----> {data} <-----\") #MO(0)  PO(1)\n",
        "  return data #MO(0)  PO(1)\n",
        "\n",
        "\n",
        "#MO(n + 3)  PO(4 + 2n + n * m) ----->\n",
        "#Regla 2: MO(n + 3)  PO(4 + 2n + n^2)\n",
        "#Regla 3: MO(n)  PO(n + n^2)\n",
        "#Final: MO(n)  PO(n^2)\n",
        "\n",
        "\n",
        "info = [10, 51, 2, 18, 4, 31, 12, 5]\n",
        "\n",
        "insertion_sort(info)"
      ],
      "execution_count": null,
      "outputs": [
        {
          "output_type": "stream",
          "name": "stdout",
          "text": [
            "original [10, 51, 2, 18, 4, 31, 12, 5]\n",
            "Posición 1 -----> [10, 51, 2, 18, 4, 31, 12, 5] <-----\n",
            "Posición 2 -----> [2, 10, 51, 18, 4, 31, 12, 5] <-----\n",
            "Posición 3 -----> [2, 10, 18, 51, 4, 31, 12, 5] <-----\n",
            "Posición 4 -----> [2, 4, 10, 18, 51, 31, 12, 5] <-----\n",
            "Posición 5 -----> [2, 4, 10, 18, 31, 51, 12, 5] <-----\n",
            "Posición 6 -----> [2, 4, 10, 12, 18, 31, 51, 5] <-----\n",
            "Posición 7 -----> [2, 4, 5, 10, 12, 18, 31, 51] <-----\n"
          ]
        },
        {
          "output_type": "execute_result",
          "data": {
            "text/plain": [
              "[2, 4, 5, 10, 12, 18, 31, 51]"
            ]
          },
          "metadata": {},
          "execution_count": 3
        }
      ]
    },
    {
      "cell_type": "markdown",
      "metadata": {
        "id": "c2kkYJExthT8"
      },
      "source": [
        "# Merge Sort\n"
      ]
    },
    {
      "cell_type": "code",
      "metadata": {
        "id": "4cNOaK_UtjGY"
      },
      "source": [
        "def mergeSort(data): #MO(n)  PO()\n",
        "  tam = len(data) #MO(1)  PO(1)\n",
        "  #print(f\"Recibido: {data}\")\n",
        "  if tam == 1: #caso base de recursividad #MO(0)  PO(on)\n",
        "    return data #MO(0)  PO(1)\n",
        "\n",
        "  \n",
        "  mid = tam // 2 #MO(1)  PO(2)\n",
        "  D = mergeSort(data[0:mid:1]) #MO(0)  PO(ln n / 2)\n",
        "  I = mergeSort(data[mid::1])\n",
        "  #print(f\"{I}\\t\\t {D}\")\n",
        "  return merge(I, D)\n",
        "\n",
        "#Total: MO()  PO()\n",
        "\n",
        "def merge(I, D):\n",
        "  resultado = [0] * (len(I) + len(D))\n",
        "  i = 0\n",
        "  d = 0\n",
        "  r = 0\n",
        "  while i < len(I) and d < len(D):\n",
        "    if I[i] < D[d]:\n",
        "      resultado[r] = I[i]\n",
        "      i += 1\n",
        "    else:\n",
        "      resultado[r] = D[d]\n",
        "      d += 1\n",
        "    r += 1\n",
        "    #Procesar los faltantes ya sea a la der. o a la izq.\n",
        "  while i < len(I):\n",
        "    resultado[r] = I[i]\n",
        "    i += 1\n",
        "    r += 1\n",
        "\n",
        "  while d < len(D):\n",
        "    resultado[r] = D[d]\n",
        "    d += 1\n",
        "    r += 1\n",
        "  return resultado\n",
        "\n",
        "    \n"
      ],
      "execution_count": 11,
      "outputs": []
    },
    {
      "cell_type": "code",
      "metadata": {
        "colab": {
          "base_uri": "https://localhost:8080/"
        },
        "id": "mZYtUsvR0BqN",
        "outputId": "525b26f7-24e5-451e-f958-ecbadc7b76af"
      },
      "source": [
        "numeros = [10, 51, 2, 18, 4, 31, 12, 5]\n",
        "mergeSort(numeros)\n",
        "\n",
        "numeros = [8, 10, 51, 2, 18, 4, 31, 12, 5, 15]\n",
        "mergeSort(numeros)"
      ],
      "execution_count": 13,
      "outputs": [
        {
          "output_type": "execute_result",
          "data": {
            "text/plain": [
              "[2, 4, 5, 8, 10, 12, 15, 18, 31, 51]"
            ]
          },
          "metadata": {},
          "execution_count": 13
        }
      ]
    },
    {
      "cell_type": "code",
      "metadata": {
        "colab": {
          "base_uri": "https://localhost:8080/"
        },
        "id": "EsU-ZTHuwuMm",
        "outputId": "41bc378b-82e5-48ee-fcd8-d0d7a088f001"
      },
      "source": [
        "#Slicing\n",
        "#Sirve para sacar rebanadas de un iterable \n",
        "\n",
        "frutas = [\"peras\", \"manzanas\", \"kiwi\", \"limon\", \"aguacate\", \"uva\", \"sandia\"]\n",
        "print(frutas[0:3:1])"
      ],
      "execution_count": null,
      "outputs": [
        {
          "output_type": "stream",
          "name": "stdout",
          "text": [
            "['peras', 'manzanas', 'kiwi']\n"
          ]
        }
      ]
    },
    {
      "cell_type": "code",
      "metadata": {
        "colab": {
          "base_uri": "https://localhost:8080/"
        },
        "id": "tytSkRWC81Wv",
        "outputId": "2f10e071-eaa7-494d-de9e-4fdf25922d0c"
      },
      "source": [
        "I = [2, 8]\n",
        "D = [3, 22]\n",
        "resultado = [0] * (len(I) + len(D))\n",
        "print(resultado)"
      ],
      "execution_count": 4,
      "outputs": [
        {
          "output_type": "stream",
          "name": "stdout",
          "text": [
            "[0, 0, 0, 0]\n"
          ]
        }
      ]
    }
  ]
}