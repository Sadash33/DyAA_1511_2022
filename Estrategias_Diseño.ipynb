{
  "nbformat": 4,
  "nbformat_minor": 0,
  "metadata": {
    "colab": {
      "name": "Estrategias_Diseño.ipynb",
      "provenance": [],
      "collapsed_sections": [],
      "authorship_tag": "ABX9TyMhM0RY9n2zOrygu/OaDvHy",
      "include_colab_link": true
    },
    "kernelspec": {
      "name": "python3",
      "display_name": "Python 3"
    },
    "language_info": {
      "name": "python"
    }
  },
  "cells": [
    {
      "cell_type": "markdown",
      "metadata": {
        "id": "view-in-github",
        "colab_type": "text"
      },
      "source": [
        "<a href=\"https://colab.research.google.com/github/Sadash33/DyAA_1511_2022/blob/main/Estrategias_Dise%C3%B1o.ipynb\" target=\"_parent\"><img src=\"https://colab.research.google.com/assets/colab-badge.svg\" alt=\"Open In Colab\"/></a>"
      ]
    },
    {
      "cell_type": "markdown",
      "metadata": {
        "id": "KQLpbLm0YWE8"
      },
      "source": [
        "#Fuerza Bruta\n",
        "\n",
        "### Ejemplo: Busqueda de patrones de texto"
      ]
    },
    {
      "cell_type": "code",
      "metadata": {
        "colab": {
          "base_uri": "https://localhost:8080/"
        },
        "id": "pT-_X7xYWMS0",
        "outputId": "e99e5e25-6a38-4b9b-fea3-bdd54a67941e"
      },
      "source": [
        "def string_match_brute(A, P):\n",
        "  for i in range(len(A) - len(P) + 1):\n",
        "    for j in range(len(P)):\n",
        "      if P[j] == A[i + j]:\n",
        "        pass\n",
        "      else:\n",
        "        break\n",
        "    if j + 1 == len(P) and A[i + j] == P[j]:\n",
        "      print(f\"Se encontró en la posición {i}\")\n",
        "\n",
        "  \n",
        "entrada = \"0011100101011011101\"\n",
        "patron = \"01101\"\n",
        "\n",
        "string_match_brute(entrada, patron)\n",
        "\n",
        "#O()\n",
        "\n",
        "#Cifrado César"
      ],
      "execution_count": null,
      "outputs": [
        {
          "output_type": "stream",
          "name": "stdout",
          "text": [
            "Se encontró en la posición 10\n"
          ]
        }
      ]
    }
  ]
}