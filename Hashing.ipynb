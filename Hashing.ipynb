{
  "nbformat": 4,
  "nbformat_minor": 0,
  "metadata": {
    "colab": {
      "name": "Hashing.ipynb",
      "provenance": [],
      "authorship_tag": "ABX9TyPhBgSmdsugs0EPln45ESwD",
      "include_colab_link": true
    },
    "kernelspec": {
      "name": "python3",
      "display_name": "Python 3"
    },
    "language_info": {
      "name": "python"
    }
  },
  "cells": [
    {
      "cell_type": "markdown",
      "metadata": {
        "id": "view-in-github",
        "colab_type": "text"
      },
      "source": [
        "<a href=\"https://colab.research.google.com/github/Sadash33/DyAA_1511_2022/blob/main/Hashing.ipynb\" target=\"_parent\"><img src=\"https://colab.research.google.com/assets/colab-badge.svg\" alt=\"Open In Colab\"/></a>"
      ]
    },
    {
      "cell_type": "code",
      "metadata": {
        "colab": {
          "base_uri": "https://localhost:8080/"
        },
        "id": "oX-TiO_SzNlZ",
        "outputId": "b25358a7-5efd-46d1-8d21-10619910307a"
      },
      "source": [
        "def tabla_hash(Tablahash):\n",
        "  for i in range(len(Tablahash)):\n",
        "    print(i, end = \" \")\n",
        "\n",
        "    for j in Tablahash[i]:\n",
        "      print(\"-->\", end = \" \")\n",
        "      print(j, end = \" \")\n",
        "\n",
        "    print()\n",
        "\n",
        "array = [[] for x in range(23)]\n",
        "\n",
        "def hashing(llave):\n",
        "  return llave % len(array)\n",
        "\n",
        "def insert(TablaH, llave, valor):\n",
        "  hash = hashing(llave)\n",
        "  TablaH[hash].append(valor)\n",
        "\n",
        "\n",
        "\n",
        "insert(array, 415, \"Fresa\")\n",
        "insert(array, 520, \"Manzana\")\n",
        "insert(array, 40, \"Platano\")\n",
        "insert(array, 123, \"Coco\")\n",
        "insert(array, 215, \"Mora\")\n",
        "insert(array, 23, \"Elote\")\n",
        "\n",
        "tabla_hash(array)"
      ],
      "execution_count": null,
      "outputs": [
        {
          "output_type": "stream",
          "name": "stdout",
          "text": [
            "0 --> Elote \n",
            "1 --> Fresa \n",
            "2 \n",
            "3 \n",
            "4 \n",
            "5 \n",
            "6 \n",
            "7 \n",
            "8 --> Coco --> Mora \n",
            "9 \n",
            "10 \n",
            "11 \n",
            "12 \n",
            "13 \n",
            "14 --> Manzana \n",
            "15 \n",
            "16 \n",
            "17 --> Platano \n",
            "18 \n",
            "19 \n",
            "20 \n",
            "21 \n",
            "22 \n"
          ]
        }
      ]
    }
  ]
}